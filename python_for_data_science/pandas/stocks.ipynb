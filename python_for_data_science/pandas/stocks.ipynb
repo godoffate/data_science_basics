{
 "cells": [
  {
   "cell_type": "code",
   "execution_count": 1,
   "metadata": {},
   "outputs": [
    {
     "name": "stdout",
     "output_type": "stream",
     "text": [
      "<class 'pandas.core.frame.DataFrame'>\n",
      "(3313, 7)\n",
      "\n",
      "         Date       Open       High        Low      Close  Adj Close    Volume\n",
      "0  2004-08-19  49.676899  51.693783  47.669952  49.845802  49.845802  44994500\n",
      "1  2004-08-20  50.178635  54.187561  49.925285  53.805050  53.805050  23005800\n",
      "2  2004-08-23  55.017166  56.373344  54.172661  54.346527  54.346527  18393200\n",
      "3  2004-08-24  55.260582  55.439419  51.450363  52.096165  52.096165  15361800\n",
      "4  2004-08-25  52.140873  53.651051  51.604362  52.657513  52.657513   9257400\n",
      "\n",
      "            Date        Open        High         Low       Close   Adj Close  \\\n",
      "3308  2017-10-09  980.000000  985.424988  976.109985  977.000000  977.000000   \n",
      "3309  2017-10-10  980.000000  981.570007  966.080017  972.599976  972.599976   \n",
      "3310  2017-10-11  973.719971  990.710022  972.250000  989.250000  989.250000   \n",
      "3311  2017-10-12  987.450012  994.119995  985.000000  987.830017  987.830017   \n",
      "3312  2017-10-13  992.000000  997.210022  989.000000  989.679993  989.679993   \n",
      "\n",
      "       Volume  \n",
      "3308   891400  \n",
      "3309   968400  \n",
      "3310  1693300  \n",
      "3311  1262400  \n",
      "3312  1157700  \n",
      "\n",
      "          Date       Open       High        Low      Close  Adj Close  \\\n",
      "0   2004-08-19  49.676899  51.693783  47.669952  49.845802  49.845802   \n",
      "1   2004-08-20  50.178635  54.187561  49.925285  53.805050  53.805050   \n",
      "2   2004-08-23  55.017166  56.373344  54.172661  54.346527  54.346527   \n",
      "3   2004-08-24  55.260582  55.439419  51.450363  52.096165  52.096165   \n",
      "4   2004-08-25  52.140873  53.651051  51.604362  52.657513  52.657513   \n",
      "5   2004-08-26  52.135906  53.626213  51.991844  53.606342  53.606342   \n",
      "6   2004-08-27  53.700729  53.959049  52.503513  52.732029  52.732029   \n",
      "7   2004-08-30  52.299839  52.404160  50.675404  50.675404  50.675404   \n",
      "8   2004-08-31  50.819469  51.519913  50.749920  50.854240  50.854240   \n",
      "9   2004-09-01  51.018177  51.152302  49.512966  49.801090  49.801090   \n",
      "10  2004-09-02  49.274517  50.854240  49.150326  50.427021  50.427021   \n",
      "\n",
      "      Volume  \n",
      "0   44994500  \n",
      "1   23005800  \n",
      "2   18393200  \n",
      "3   15361800  \n",
      "4    9257400  \n",
      "5    7148200  \n",
      "6    6258300  \n",
      "7    5235700  \n",
      "8    4954800  \n",
      "9    9206800  \n",
      "10  15232100  \n",
      "\n",
      "            Date        Open        High         Low       Close   Adj Close  \\\n",
      "3304  2017-10-03  954.000000  958.000000  949.140015  957.789978  957.789978   \n",
      "3305  2017-10-04  957.000000  960.390015  950.690002  951.679993  951.679993   \n",
      "3306  2017-10-05  955.489990  970.909973  955.179993  969.960022  969.960022   \n",
      "3307  2017-10-06  966.700012  979.460022  963.359985  978.890015  978.890015   \n",
      "3308  2017-10-09  980.000000  985.424988  976.109985  977.000000  977.000000   \n",
      "3309  2017-10-10  980.000000  981.570007  966.080017  972.599976  972.599976   \n",
      "3310  2017-10-11  973.719971  990.710022  972.250000  989.250000  989.250000   \n",
      "3311  2017-10-12  987.450012  994.119995  985.000000  987.830017  987.830017   \n",
      "3312  2017-10-13  992.000000  997.210022  989.000000  989.679993  989.679993   \n",
      "\n",
      "       Volume  \n",
      "3304   888300  \n",
      "3305   952400  \n",
      "3306  1213800  \n",
      "3307  1173900  \n",
      "3308   891400  \n",
      "3309   968400  \n",
      "3310  1693300  \n",
      "3311  1262400  \n",
      "3312  1157700  \n"
     ]
    }
   ],
   "source": [
    "import pandas as pd\n",
    "\n",
    "d = pd.read_csv(\"D:\\data_science\\pandas\\stocks.csv\")\n",
    "\n",
    "print(type(d))\n",
    "print(d.shape)\n",
    "print()\n",
    "print(d.head())    # gives the top 5 rows of data\n",
    "print()\n",
    "print(d.tail())    # gives the bottom 5 rows of the data\n",
    "print()\n",
    "print(d.head(11))  #  --> d.head(no. of rows)\n",
    "print()\n",
    "print(d.tail(9))   #  --> d.tail(no. of rows)"
   ]
  },
  {
   "cell_type": "code",
   "execution_count": 4,
   "metadata": {},
   "outputs": [
    {
     "name": "stdout",
     "output_type": "stream",
     "text": [
      "Index(['Date', 'Open', 'High', 'Low', 'Close', 'Adj Close', 'Volume'], dtype='object')\n",
      "\n",
      "            Date        Open        High         Low       Close   Adj Close  \\\n",
      "0     2004-08-19   49.676899   51.693783   47.669952   49.845802   49.845802   \n",
      "1     2004-08-20   50.178635   54.187561   49.925285   53.805050   53.805050   \n",
      "2     2004-08-23   55.017166   56.373344   54.172661   54.346527   54.346527   \n",
      "3     2004-08-24   55.260582   55.439419   51.450363   52.096165   52.096165   \n",
      "4     2004-08-25   52.140873   53.651051   51.604362   52.657513   52.657513   \n",
      "...          ...         ...         ...         ...         ...         ...   \n",
      "3308  2017-10-09  980.000000  985.424988  976.109985  977.000000  977.000000   \n",
      "3309  2017-10-10  980.000000  981.570007  966.080017  972.599976  972.599976   \n",
      "3310  2017-10-11  973.719971  990.710022  972.250000  989.250000  989.250000   \n",
      "3311  2017-10-12  987.450012  994.119995  985.000000  987.830017  987.830017   \n",
      "3312  2017-10-13  992.000000  997.210022  989.000000  989.679993  989.679993   \n",
      "\n",
      "        Volume  \n",
      "0     44994500  \n",
      "1     23005800  \n",
      "2     18393200  \n",
      "3     15361800  \n",
      "4      9257400  \n",
      "...        ...  \n",
      "3308    891400  \n",
      "3309    968400  \n",
      "3310   1693300  \n",
      "3311   1262400  \n",
      "3312   1157700  \n",
      "\n",
      "[3313 rows x 7 columns]\n"
     ]
    }
   ],
   "source": [
    "import pandas as pd\n",
    "\n",
    "d = pd.read_csv(\"D:\\data_science\\pandas\\stocks.csv\")\n",
    "\n",
    "print(d.columns)   # gives list of column names\n",
    "print()\n",
    "print(d)           # as it is large dataset, we cannot add index no./index lables to the dataset. so, python adds index no. for each rows"
   ]
  },
  {
   "cell_type": "code",
   "execution_count": 5,
   "metadata": {},
   "outputs": [
    {
     "name": "stdout",
     "output_type": "stream",
     "text": [
      "       Date   Open   High    Low  Close  Adj Close  Volume\n",
      "0     False  False  False  False  False      False   False\n",
      "1     False  False  False  False  False      False   False\n",
      "2     False  False  False  False  False      False   False\n",
      "3     False  False  False  False  False      False   False\n",
      "4     False  False  False  False  False      False   False\n",
      "...     ...    ...    ...    ...    ...        ...     ...\n",
      "3308  False  False  False  False  False      False   False\n",
      "3309  False  False  False  False  False      False   False\n",
      "3310  False  False  False  False  False      False   False\n",
      "3311  False  False  False  False  False      False   False\n",
      "3312  False  False  False  False  False      False   False\n",
      "\n",
      "[3313 rows x 7 columns]\n",
      "Date         0\n",
      "Open         0\n",
      "High         0\n",
      "Low          0\n",
      "Close        0\n",
      "Adj Close    0\n",
      "Volume       0\n",
      "dtype: int64\n",
      "0\n",
      "\n",
      "Date         False\n",
      "Open         False\n",
      "High         False\n",
      "Low          False\n",
      "Close        False\n",
      "Adj Close    False\n",
      "Volume       False\n",
      "dtype: bool\n"
     ]
    }
   ],
   "source": [
    "import pandas as pd\n",
    "\n",
    "d = pd.read_csv(\"D:\\data_science\\pandas\\stocks.csv\")\n",
    "\n",
    "print(d.isnull())              # applies isnull() method to every value in DataFrame and gives bool\n",
    "print(d.isnull().sum())        # sums no. of NaN in each column\n",
    "print(d.isnull().sum().sum())  # sums total no. of NaN in DataFrame [or] sums above 1 column values and give result\n",
    "print()\n",
    "print(d.isnull().any())        # any() --> tells if any value in columns are missing(NaN) and gives Bool [But use sum(), as it \n",
    "                               # tells how many are missing also ]"
   ]
  },
  {
   "cell_type": "code",
   "execution_count": 6,
   "metadata": {},
   "outputs": [
    {
     "name": "stdout",
     "output_type": "stream",
     "text": [
      "              Open         High          Low        Close    Adj Close  \\\n",
      "count  3313.000000  3313.000000  3313.000000  3313.000000  3313.000000   \n",
      "mean    380.186092   383.493740   376.519309   380.072458   380.072458   \n",
      "std     223.818650   224.974534   222.473232   223.853780   223.853780   \n",
      "min      49.274517    50.541279    47.669952    49.681866    49.681866   \n",
      "25%     226.556473   228.394516   224.003082   226.407440   226.407440   \n",
      "50%     293.312286   295.433502   289.929291   293.029114   293.029114   \n",
      "75%     536.650024   540.000000   532.409973   536.690002   536.690002   \n",
      "max     992.000000   997.210022   989.000000   989.679993   989.679993   \n",
      "\n",
      "             Volume  \n",
      "count  3.313000e+03  \n",
      "mean   8.038476e+06  \n",
      "std    8.399521e+06  \n",
      "min    7.900000e+03  \n",
      "25%    2.584900e+06  \n",
      "50%    5.281300e+06  \n",
      "75%    1.065370e+07  \n",
      "max    8.276810e+07  \n",
      "\n",
      "count    3313.000000\n",
      "mean      376.519309\n",
      "std       222.473232\n",
      "min        47.669952\n",
      "25%       224.003082\n",
      "50%       289.929291\n",
      "75%       532.409973\n",
      "max       989.000000\n",
      "Name: Low, dtype: float64\n",
      "\n",
      "              High         Open\n",
      "count  3313.000000  3313.000000\n",
      "mean    383.493740   380.186092\n",
      "std     224.974534   223.818650\n",
      "min      50.541279    49.274517\n",
      "25%     228.394516   226.556473\n",
      "50%     295.433502   293.312286\n",
      "75%     540.000000   536.650024\n",
      "max     997.210022   992.000000\n"
     ]
    }
   ],
   "source": [
    "import pandas as pd\n",
    "\n",
    "d = pd.read_csv(\"D:\\data_science\\pandas\\stocks.csv\")\n",
    "\n",
    "print(d.describe())    # describe() --> gives statistical information of each columns\n",
    "print()\n",
    "print(d[\"Low\"].describe())    # can do for selected column\n",
    "print()\n",
    "print(d[[\"High\",\"Open\"]].describe())   # also more than 1 column by making argument into 1 list [as argument should be 1 for d[]]"
   ]
  },
  {
   "cell_type": "markdown",
   "metadata": {},
   "source": [
    "**In above Output, there are 25% values which are below 226 no. and 50% values which are below 293 and 75% values which are below 536. So, and when we see min and max, and 50% values are below 300, we can say there are some outliers present in the data. By visualising through graph, we can identify those outliers.**"
   ]
  },
  {
   "cell_type": "code",
   "execution_count": 7,
   "metadata": {},
   "outputs": [
    {
     "name": "stdout",
     "output_type": "stream",
     "text": [
      "Date         2017-10-13\n",
      "Open              992.0\n",
      "High         997.210022\n",
      "Low               989.0\n",
      "Close        989.679993\n",
      "Adj Close    989.679993\n",
      "Volume         82768100\n",
      "dtype: object\n",
      "\n",
      "49.681866\n"
     ]
    }
   ],
   "source": [
    "import pandas as pd\n",
    "\n",
    "d = pd.read_csv(\"D:\\data_science\\pandas\\stocks.csv\")\n",
    "\n",
    "print(d.max())\n",
    "print()\n",
    "print(d[\"Close\"].min())    # can do methods for each column [or] a list of columns"
   ]
  },
  {
   "cell_type": "markdown",
   "metadata": {},
   "source": [
    "Multi- Collinearity: relation between columns. Range --> (-1,1). if the value is towards 0 to 1, then they are positive correlated (proportional). If the value is 0, then they are not impacting eachother (unrelated). If the value is towards 0 to -1, then they are negative correlated (inverse proportional).\n",
    "\n",
    "Now,\n",
    "Independent variable --> varaibles/columns which are used to find the dependent variables/column through multi collinearity [column][row]\n",
    "Dependent variable --> variable/column which is need to be predicted through Independent Variable/columns. [row][column]"
   ]
  },
  {
   "cell_type": "markdown",
   "metadata": {},
   "source": [
    "IMPORTANT POINTS:\n",
    "1) If the correlation between 2 Independent features/variables is high (negative/positive) it will introduce multi-collinearity in the data. In this case, we should remove one of them.\n",
    "2) If the correlation between a Independent feature/variable and a Dependent feature/variable is high then we consider that this Independent feature is very important to the model.\n",
    "3) If a Independent featureis having 0 correlation with the dependent feature then it is considered it is not at all important in the study or for the model and can be dropped."
   ]
  },
  {
   "cell_type": "code",
   "execution_count": 5,
   "metadata": {},
   "outputs": [
    {
     "name": "stdout",
     "output_type": "stream",
     "text": [
      "               Open      High       Low     Close  Adj Close    Volume\n",
      "Open       1.000000  0.999904  0.999845  0.999745   0.999745 -0.564258\n",
      "High       0.999904  1.000000  0.999834  0.999868   0.999868 -0.562749\n",
      "Low        0.999845  0.999834  1.000000  0.999899   0.999899 -0.567007\n",
      "Close      0.999745  0.999868  0.999899  1.000000   1.000000 -0.564967\n",
      "Adj Close  0.999745  0.999868  0.999899  1.000000   1.000000 -0.564967\n",
      "Volume    -0.564258 -0.562749 -0.567007 -0.564967  -0.564967  1.000000\n"
     ]
    }
   ],
   "source": [
    "import pandas as pd\n",
    "\n",
    "d = pd.read_csv(\"D:\\data_science\\pandas\\stocks.csv\")\n",
    "\n",
    "# gives the correlation between the each rows and each columns for only which has no strings.\n",
    "print(d[[\"Open\",\"High\",\"Low\",\"Close\",\"Adj Close\",\"Volume\"]].corr())    "
   ]
  }
 ],
 "metadata": {
  "kernelspec": {
   "display_name": "Python 3",
   "language": "python",
   "name": "python3"
  },
  "language_info": {
   "codemirror_mode": {
    "name": "ipython",
    "version": 3
   },
   "file_extension": ".py",
   "mimetype": "text/x-python",
   "name": "python",
   "nbconvert_exporter": "python",
   "pygments_lexer": "ipython3",
   "version": "3.11.0"
  },
  "orig_nbformat": 4
 },
 "nbformat": 4,
 "nbformat_minor": 2
}
