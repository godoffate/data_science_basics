{
 "cells": [
  {
   "cell_type": "code",
   "execution_count": 1,
   "metadata": {},
   "outputs": [
    {
     "name": "stdout",
     "output_type": "stream",
     "text": [
      "   Year     Name Department  Age  Salary\n",
      "0  1990    Alice         HR   25   50000\n",
      "1  1990      Bob         RD   30   48000\n",
      "2  1990  Charlie      Admin   45   55000\n",
      "3  1991    Alice         HR   26   52000\n",
      "4  1991      Bob         RD   31   50000\n",
      "5  1991  Charlie      Admin   46   60000\n",
      "6  1992    Alice      Admin   27   60000\n",
      "7  1992      Bob         RD   32   52000\n",
      "8  1992  Charlie      Admin   28   62000\n",
      "\n",
      "Year\n",
      "1990    153000\n",
      "1991    162000\n",
      "1992    174000\n",
      "Name: Salary, dtype: int64\n",
      "\n",
      "Year\n",
      "1990    51000.0\n",
      "1991    54000.0\n",
      "1992    58000.0\n",
      "Name: Salary, dtype: float64\n",
      "\n",
      "Name\n",
      "Alice      162000\n",
      "Bob        150000\n",
      "Charlie    177000\n",
      "Name: Salary, dtype: int64\n",
      "\n",
      "Year  Department\n",
      "1990  Admin          55000\n",
      "      HR             50000\n",
      "      RD             48000\n",
      "1991  Admin          60000\n",
      "      HR             52000\n",
      "      RD             50000\n",
      "1992  Admin         122000\n",
      "      RD             52000\n",
      "Name: Salary, dtype: int64\n",
      "\n",
      "            Salary            Age\n",
      "               sum     mean  mean\n",
      "Department                       \n",
      "Admin       237000  59250.0  36.5\n",
      "HR          102000  51000.0  25.5\n",
      "RD          150000  50000.0  31.0\n"
     ]
    }
   ],
   "source": [
    "import pandas as pd\n",
    "\n",
    "a = pd.read_csv(\"D:\\data_science\\python_for_data_science\\pandas\\\\fake_company.csv\")     # q) why we add another \\ before fake?\n",
    "\n",
    "print(a)\n",
    "print()\n",
    "# x.groupby([\"reference_column_that_need_to_be_followed_for_grouping\"][\"value_that_need_to_be_grouped_[sum]\"].sum() -->  makes \n",
    "# the sum (due to sum()) of values that are grouped.\n",
    "print(a.groupby([\"Year\"])[\"Salary\"].sum())  # gives sum of salary of company spent on name(employee) in each year\n",
    "print()\n",
    "print(a.groupby([\"Year\"])[\"Salary\"].mean()) # likewise, we can do other things like mean(),min(),max() etc...\n",
    "print()\n",
    "print(a.groupby([\"Name\"])[\"Salary\"].sum())  # can find total expenditure spend by each person\n",
    "print()\n",
    "print(a.groupby([\"Year\",\"Department\"])[\"Salary\"].sum())  # in each year , each department's expenditure's sum will be given\n",
    "print()\n",
    "# Till now we did single operation(sum()) for multiple groups. Now, lets do multiple operation on single group.\n",
    "# groups \"department\" and aggregates like mean & sum of \"salary\" & mean of \"age\". \n",
    "print(a.groupby([\"Department\"]).agg({\"Salary\":[\"sum\",\"mean\"],\"Age\":\"mean\"}))\n"
   ]
  }
 ],
 "metadata": {
  "kernelspec": {
   "display_name": "Python 3",
   "language": "python",
   "name": "python3"
  },
  "language_info": {
   "codemirror_mode": {
    "name": "ipython",
    "version": 3
   },
   "file_extension": ".py",
   "mimetype": "text/x-python",
   "name": "python",
   "nbconvert_exporter": "python",
   "pygments_lexer": "ipython3",
   "version": "3.11.0"
  },
  "orig_nbformat": 4
 },
 "nbformat": 4,
 "nbformat_minor": 2
}
